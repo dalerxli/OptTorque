{
 "metadata": {
  "language": "Julia",
  "name": ""
 },
 "nbformat": 3,
 "nbformat_minor": 0,
 "worksheets": [
  {
   "cells": [
    {
     "cell_type": "heading",
     "level": 2,
     "metadata": {},
     "source": [
      "egetLG test: GHBeam.jl "
     ]
    },
    {
     "cell_type": "code",
     "collapsed": false,
     "input": [
      "include(\"GHBeam.jl\")\n",
      "bgetLG(X, P, L, w0, eps, mu, omega) = getLG(big(X), P,L, big(w0), big(eps), big(mu), big(omega))\n",
      "egetLG(args...) = let exact = bgetLG(args...);\n",
      "    (abs(getLG(args...) - exact) / norm(exact))\n",
      "end"
     ],
     "language": "python",
     "metadata": {},
     "outputs": [
      {
       "metadata": {},
       "output_type": "pyout",
       "prompt_number": 1,
       "text": [
        "egetLG (generic function with 1 method)"
       ]
      }
     ],
     "prompt_number": 1
    },
    {
     "cell_type": "code",
     "collapsed": false,
     "input": [
      "egetLG([1,2,10], 2,3, 1.0, 1, 1, \u03c0)"
     ],
     "language": "python",
     "metadata": {},
     "outputs": [
      {
       "metadata": {},
       "output_type": "pyout",
       "prompt_number": 2,
       "text": [
        "6-element Array{BigFloat,1}:\n",
        " 6.677220448812990323054932302411051311309173657839091487058688815802265405539696e-16\n",
        " 9.637147158586450897062002129608476797530832358064446408653432459393635259550453e-16\n",
        " 0e+00                                                                               \n",
        " 9.702120289655313039074195637128771738497082675396884319581444219861140213894638e-16\n",
        " 6.789923812217493476164496841191410390442534629098153059353092811430950019197557e-16\n",
        " 4.222002028673486937706841847615561836389784905199238363422745907990341868952204e-16"
       ]
      }
     ],
     "prompt_number": 2
    },
    {
     "cell_type": "heading",
     "level": 2,
     "metadata": {},
     "source": [
      "egetMN test: VBeam.jl"
     ]
    },
    {
     "cell_type": "code",
     "collapsed": false,
     "input": [
      "besselj(1,0.5)"
     ],
     "language": "python",
     "metadata": {},
     "outputs": [
      {
       "metadata": {},
       "output_type": "pyout",
       "prompt_number": 3,
       "text": [
        "0.2422684576748739"
       ]
      }
     ],
     "prompt_number": 3
    },
    {
     "cell_type": "code",
     "collapsed": false,
     "input": [
      "include(\"VBeam.jl\")\n",
      "bgetMN(X, L, aIn, eps, mu, omega) = getMN(big(X), L, big(aIn), big(eps), big(mu), big(omega))\n",
      "\n",
      "egetMN(args...) = let exact = bgetMN(args...);\n",
      "    abs(getMN(args...) - exact)/norm(exact)\n",
      "end"
     ],
     "language": "python",
     "metadata": {},
     "outputs": [
      {
       "metadata": {},
       "output_type": "pyout",
       "prompt_number": 4,
       "text": [
        "egetMN (generic function with 1 method)"
       ]
      }
     ],
     "prompt_number": 4
    },
    {
     "cell_type": "code",
     "collapsed": false,
     "input": [
      "egetMN([1,10,2],3, \u03c0*0.005, 1,1, \u03c0)"
     ],
     "language": "python",
     "metadata": {},
     "outputs": [
      {
       "metadata": {},
       "output_type": "pyout",
       "prompt_number": 6,
       "text": [
        "6-element Array{BigFloat,1}:\n",
        " 3.232583616209816589308048989181854981953498595629564509465941783282980179003783e-16\n",
        " 2.540105659361904013455916591073804033642204498472214569521380701559763234214667e-16\n",
        " 0e+00                                                                               \n",
        " 2.653579173907275327950242959615022881546742906939972319177919267736812464018615e-16\n",
        " 3.407989491307523190546777088708555916051501719177787369037057967841899910362095e-16\n",
        " 2.134486467848311011699848734501718066140424107360455863854562889302007495833272e-22"
       ]
      }
     ],
     "prompt_number": 6
    },
    {
     "cell_type": "code",
     "collapsed": false,
     "input": [],
     "language": "python",
     "metadata": {},
     "outputs": []
    }
   ],
   "metadata": {}
  }
 ]
}