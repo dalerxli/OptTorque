{
 "metadata": {
  "language": "Julia",
  "name": ""
 },
 "nbformat": 3,
 "nbformat_minor": 0,
 "worksheets": [
  {
   "cells": [
    {
     "cell_type": "heading",
     "level": 2,
     "metadata": {},
     "source": [
      "egetLG test: GHBeam.jl "
     ]
    },
    {
     "cell_type": "code",
     "collapsed": false,
     "input": [
      "include(\"GHBeam.jl\")\n",
      "bgetLG(X, P, L, w0, eps, mu, omega) = getLG(big(X), P,L, big(w0), big(eps), big(mu), big(omega))\n",
      "egetLG(args...) = let exact = bgetLG(args...);\n",
      "    (abs(getLG(args...) - exact) / norm(exact))\n",
      "end"
     ],
     "language": "python",
     "metadata": {},
     "outputs": [
      {
       "metadata": {},
       "output_type": "pyout",
       "prompt_number": 1,
       "text": [
        "egetLG (generic function with 1 method)"
       ]
      }
     ],
     "prompt_number": 1
    },
    {
     "cell_type": "code",
     "collapsed": false,
     "input": [
      "egetLG([1,2,10], 2,3, 1.0, 1, 1, \u03c0)"
     ],
     "language": "python",
     "metadata": {},
     "outputs": [
      {
       "metadata": {},
       "output_type": "pyout",
       "prompt_number": 2,
       "text": [
        "6-element Array{BigFloat,1}:\n",
        " 6.677220448812990323054932302411051311309173657839091487058688815802265405539696e-16\n",
        " 9.637147158586450897062002129608476797530832358064446408653432459393635259550453e-16\n",
        " 0e+00                                                                               \n",
        " 9.702120289655313039074195637128771738497082675396884319581444219861140213894638e-16\n",
        " 6.789923812217493476164496841191410390442534629098153059353092811430950019197557e-16\n",
        " 4.222002028673486937706841847615561836389784905199238363422745907990341868952204e-16"
       ]
      }
     ],
     "prompt_number": 2
    },
    {
     "cell_type": "heading",
     "level": 2,
     "metadata": {},
     "source": [
      "egetMN test: VBeam.jl"
     ]
    },
    {
     "cell_type": "code",
     "collapsed": false,
     "input": [
      "besselj(1,0.5)"
     ],
     "language": "python",
     "metadata": {},
     "outputs": [
      {
       "metadata": {},
       "output_type": "pyout",
       "prompt_number": 3,
       "text": [
        "0.2422684576748739"
       ]
      }
     ],
     "prompt_number": 3
    },
    {
     "cell_type": "code",
     "collapsed": false,
     "input": [
      "include(\"VBeam.jl\")\n",
      "bgetMN(X, L, aIn, eps, mu, omega) = getMN(big(X), L, big(aIn), big(eps), big(mu), big(omega))\n",
      "\n",
      "egetMN(args...) = let exact = bgetMN(args...);\n",
      "    abs(getMN(args...) - exact)/norm(exact)\n",
      "end"
     ],
     "language": "python",
     "metadata": {},
     "outputs": [
      {
       "metadata": {},
       "output_type": "pyout",
       "prompt_number": 4,
       "text": [
        "egetMN (generic function with 1 method)"
       ]
      }
     ],
     "prompt_number": 4
    },
    {
     "cell_type": "code",
     "collapsed": false,
     "input": [
      "egetMN([0,10,2],3, \u03c0*0.005, 1,1, \u03c0)"
     ],
     "language": "python",
     "metadata": {},
     "outputs": [
      {
       "metadata": {},
       "output_type": "pyout",
       "prompt_number": 21,
       "text": [
        "6-element Array{BigFloat,1}:\n",
        " 3.484542891487430499504926067734914453608195602103032630730450030987087483563623e-16\n",
        " 3.871107819662469822860925095963310164367463372963241904160235615123070647207813e-16\n",
        " 0e+00                                                                               \n",
        " 3.468929542240578706280226778332246561721542769612614469791314092109686860951329e-16\n",
        " 3.498584492356880159068963465043791574057623740061017258642638733294052020919971e-16\n",
        " 3.211127295168956110225145657615953784528750887430638852251483105680219101344349e-22"
       ]
      }
     ],
     "prompt_number": 21
    }
   ],
   "metadata": {}
  }
 ]
}